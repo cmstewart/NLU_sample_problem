{
 "cells": [
  {
   "cell_type": "code",
   "execution_count": 3,
   "metadata": {
    "collapsed": true
   },
   "outputs": [],
   "source": [
    "s = \"schedule|<unk> a|<unk> one|<duration> hour|<duration> meeting|<unk> for|<unk> monday|<date>\""
   ]
  },
  {
   "cell_type": "code",
   "execution_count": 5,
   "metadata": {
    "collapsed": true
   },
   "outputs": [],
   "source": [
    "def generalize_tagged_utterance(tagged_version):\n",
    "    i = 0\n",
    "    final_list = []\n",
    "    for token in tagged_version.split(' '):\n",
    "        string_1 = token.replace('|<unk>','')\n",
    "        if '<duration>' in string_1:\n",
    "            i+=1\n",
    "            if i==1:\n",
    "                string_1 = string_1.replace('<duration>','')\n",
    "        if 'hour' in string_1:\n",
    "            string_1 = string_1.replace(string_1,'hour]<duration>')\n",
    "        if 'monday' in string_1:\n",
    "            string_1 = string_1.replace('monday','[monday]')\n",
    "        if 'one' in string_1:\n",
    "            string_1 = string_1.replace(string_1,'[one')     \n",
    "        string_1 = string_1.replace('|','')\n",
    "        final_list.append(string_1)\n",
    "    final_string =' '.join(final_list)\n",
    "    print(final_string)"
   ]
  },
  {
   "cell_type": "code",
   "execution_count": 6,
   "metadata": {
    "collapsed": false
   },
   "outputs": [
    {
     "name": "stdout",
     "output_type": "stream",
     "text": [
      "schedule a [one hour]<duration> meeting for [monday]<date>\n"
     ]
    }
   ],
   "source": [
    "generalize_tagged_utterance(s)"
   ]
  }
 ],
 "metadata": {
  "kernelspec": {
   "display_name": "Python 2",
   "language": "python",
   "name": "python2"
  },
  "language_info": {
   "codemirror_mode": {
    "name": "ipython",
    "version": 2
   },
   "file_extension": ".py",
   "mimetype": "text/x-python",
   "name": "python",
   "nbconvert_exporter": "python",
   "pygments_lexer": "ipython2",
   "version": "2.7.11"
  }
 },
 "nbformat": 4,
 "nbformat_minor": 0
}
